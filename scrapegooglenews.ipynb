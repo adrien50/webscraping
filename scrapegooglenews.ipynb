{
  "nbformat": 4,
  "nbformat_minor": 0,
  "metadata": {
    "colab": {
      "name": "scrapegooglenews.ipynb",
      "provenance": [],
      "authorship_tag": "ABX9TyOxt6ITa99t4GgkzgmNo4za",
      "include_colab_link": true
    },
    "kernelspec": {
      "name": "python3",
      "display_name": "Python 3"
    }
  },
  "cells": [
    {
      "cell_type": "markdown",
      "metadata": {
        "id": "view-in-github",
        "colab_type": "text"
      },
      "source": [
        "<a href=\"https://colab.research.google.com/github/adrien50/webscraping/blob/main/scrapegooglenews.ipynb\" target=\"_parent\"><img src=\"https://colab.research.google.com/assets/colab-badge.svg\" alt=\"Open In Colab\"/></a>"
      ]
    },
    {
      "cell_type": "code",
      "metadata": {
        "id": "1T51-crsX52S"
      },
      "source": [
        ""
      ],
      "execution_count": null,
      "outputs": []
    },
    {
      "cell_type": "markdown",
      "metadata": {
        "id": "t-QTzJVXX8NH"
      },
      "source": [
        "In this article, I’m going to create a web scraper with Python that pulls all the stories from Google News by extracting all the tags from the HTML of Google News.Google News uses tags to create links to the various websites that make up the site. So in addition to some additional data, you’ll collect all the URLs of the articles that Google News displays. I will use the BeautifulSoup module to analyze the articles from Google News. Parsing means taking a format like HTML and using a programming language to give it structure. For example, transforming data into an object. Now, to start this task of creating a web scraper with Python, you need to install a module named BeautifulSoup. It can be easily installed using the pip command; pip install beautifulsoup4."
      ]
    },
    {
      "cell_type": "markdown",
      "metadata": {
        "id": "IdYcjunxYNMK"
      },
      "source": [
        "###Web Scraper with Python\r\n",
        "Python has a built-in module, named urllib, for working with URLs. Add the following code to a new Python file:"
      ]
    },
    {
      "cell_type": "code",
      "metadata": {
        "id": "824NMwqDYCo2"
      },
      "source": [
        "import urllib.request\r\n",
        "from bs4 import BeautifulSoup\r\n",
        "\r\n",
        "\r\n",
        "class Scraper:\r\n",
        "    def __init__(self, site):\r\n",
        "        self.site = site"
      ],
      "execution_count": null,
      "outputs": []
    },
    {
      "cell_type": "markdown",
      "metadata": {
        "id": "OycqHRr4YhiD"
      },
      "source": [
        "The __init__ method uses a website to extract as a parameter. Later you will pass “https://news.google.com/” as a parameter. The Scraper class has a method called scrape that you will call whenever you want to retrieve data from the site you passed.\r\n",
        "\r\n",
        "Add the following code to your scrape method:"
      ]
    },
    {
      "cell_type": "code",
      "metadata": {
        "id": "O_O0TqGMYiOW"
      },
      "source": [
        "def scrape(self):\r\n",
        "        r = urllib.request.urlopen(self.site)\r\n",
        "        html = r.read()"
      ],
      "execution_count": null,
      "outputs": []
    },
    {
      "cell_type": "markdown",
      "metadata": {
        "id": "MK2F_hl4ZB6q"
      },
      "source": [
        "The urlopen () function sends a request to a website and returns a Response object in which its HTML code is stored, along with additional data. The response of the function. read () returns the HTML of the Response object. All the HTML for the website is in the html variable.\r\n",
        "\r\n",
        "You are now ready to analyze the HTML. Add a new line of code in the scrape function which creates a BeautifulSoup object, and pass the html variable and the “html.parser” string as a parameter:\r\n",
        "\r\n"
      ]
    },
    {
      "cell_type": "code",
      "metadata": {
        "id": "sjVDxAXMZCeZ"
      },
      "source": [
        "def scrape(self):\r\n",
        "        r = urllib.request.urlopen(self.site)\r\n",
        "        html = r.read()\r\n",
        "        parser = \"html.parser\"\r\n",
        "        sp = BeautifulSoup(html,parser)"
      ],
      "execution_count": null,
      "outputs": []
    },
    {
      "cell_type": "markdown",
      "metadata": {
        "id": "-HTzH0olZJ1b"
      },
      "source": [
        "The BeautifulSoup object does all the hard work and parses the HTML. You can now add code to the scrape function that calls the find_all method on the BeautifulSoup object.\r\n",
        "\r\n",
        "Pass “a” as the parameter and the method will return all the URLs the website is linked to in the HTML code you downloaded:"
      ]
    },
    {
      "cell_type": "code",
      "metadata": {
        "id": "M6wuuuBYZQLF"
      },
      "source": [
        "def scrape(self):\r\n",
        "        r = urllib.request.urlopen(self.site)\r\n",
        "        html = r.read()\r\n",
        "        parser = \"html.parser\"\r\n",
        "        sp = BeautifulSoup(html,parser)\r\n",
        "        for tag in sp.find_all(\"a\"):\r\n",
        "            url = tag.get(\"href\")\r\n",
        "            if url is None:\r\n",
        "                continue\r\n",
        "            if \"articles\" in url:\r\n",
        "                print(\"\\n\" + url)"
      ],
      "execution_count": null,
      "outputs": []
    },
    {
      "cell_type": "markdown",
      "metadata": {
        "id": "xRTMqb57ZkK2"
      },
      "source": [
        "The find_all method returns an iterable containing the tag objects found. Each time around the for loop, the variable receives the value of a new Tag object. Each Tag object has many different instance variables, but you just want the value of the href instance variable, which contains each URL.\r\n",
        "\r\n",
        "You can get it by calling the get method and passing “href” as a parameter. Finally, you verify that the URL variable contains data; that it contains the string “articles” (you don’t want to print internal links); and if so, you print it. Here is the full web scraper:"
      ]
    },
    {
      "cell_type": "code",
      "metadata": {
        "colab": {
          "base_uri": "https://localhost:8080/"
        },
        "id": "b0BEdAvZZku3",
        "outputId": "b3695677-ce08-4f82-a653-590e46be048a"
      },
      "source": [
        "import urllib.request\r\n",
        "from bs4 import BeautifulSoup\r\n",
        "\r\n",
        "\r\n",
        "class Scraper:\r\n",
        "    def __init__(self, site):\r\n",
        "        self.site = site\r\n",
        "\r\n",
        "    def scrape(self):\r\n",
        "        r = urllib.request.urlopen(self.site)\r\n",
        "        html = r.read()\r\n",
        "        parser = \"html.parser\"\r\n",
        "        sp = BeautifulSoup(html,parser)\r\n",
        "        for tag in sp.find_all(\"a\"):\r\n",
        "            url = tag.get(\"href\")\r\n",
        "            if url is None:\r\n",
        "                continue\r\n",
        "                \r\n",
        "            if \"articles\" in url:\r\n",
        "                print(\"\\n\" + url)\r\n",
        "\r\n",
        "news = \"https://news.google.com/\"\r\n",
        "Scraper(news).scrape()"
      ],
      "execution_count": null,
      "outputs": [
        {
          "output_type": "stream",
          "text": [
            "\n",
            "./articles/CAIiECbdpwm1VQfwxZ8a82qH1NcqGQgEKhAIACoHCAow4Zn5CjCu8uACMLTRlgY?hl=en-US&gl=US&ceid=US%3Aen\n",
            "\n",
            "./articles/CAIiECbdpwm1VQfwxZ8a82qH1NcqGQgEKhAIACoHCAow4Zn5CjCu8uACMLTRlgY?hl=en-US&gl=US&ceid=US%3Aen\n",
            "\n",
            "./articles/CAIiECbdpwm1VQfwxZ8a82qH1NcqGQgEKhAIACoHCAow4Zn5CjCu8uACMLTRlgY?hl=en-US&gl=US&ceid=US%3Aen\n",
            "\n",
            "./articles/CCAiC2NyX1FlTENxdTk0mAEB?hl=en-US&gl=US&ceid=US%3Aen\n",
            "\n",
            "./articles/CCAiC2NyX1FlTENxdTk0mAEB?hl=en-US&gl=US&ceid=US%3Aen\n",
            "\n",
            "./articles/CAIiEAWMqIT2iu7RTizHA0Jk_Q0qMwgEKioIACIQpzoRSNLEm6QR--MasMLSAioUCAoiEKc6EUjSxJukEfvjGrDC0gIwpvTQBg?hl=en-US&gl=US&ceid=US%3Aen\n",
            "\n",
            "./articles/CAIiEAWMqIT2iu7RTizHA0Jk_Q0qMwgEKioIACIQpzoRSNLEm6QR--MasMLSAioUCAoiEKc6EUjSxJukEfvjGrDC0gIwpvTQBg?hl=en-US&gl=US&ceid=US%3Aen\n",
            "\n",
            "./articles/CAIiEPLRUjgj_AGkyiXXuGmWUz8qGAgEKg8IACoHCAowjtSUCjC30XQw_qe5AQ?hl=en-US&gl=US&ceid=US%3Aen\n",
            "\n",
            "./articles/CAIiEPLRUjgj_AGkyiXXuGmWUz8qGAgEKg8IACoHCAowjtSUCjC30XQw_qe5AQ?hl=en-US&gl=US&ceid=US%3Aen\n",
            "\n",
            "./articles/CAIiEPVPYgKWR6K4oj8mMcuUq4oqGAgEKg8IACoHCAowjtSUCjC30XQw_qe5AQ?hl=en-US&gl=US&ceid=US%3Aen\n",
            "\n",
            "./articles/CAIiEPVPYgKWR6K4oj8mMcuUq4oqGAgEKg8IACoHCAowjtSUCjC30XQw_qe5AQ?hl=en-US&gl=US&ceid=US%3Aen\n",
            "\n",
            "./articles/CBMiWGh0dHBzOi8vd3d3LmZveG5ld3MuY29tL21lZGlhL2hhbm5pdHktYmlkZW4tY292aWQtcG9zaXRpdmUtbWlncmFudHMtbmVhbmRlcnRoYWwtdGhpbmtpbmfSAQA?hl=en-US&gl=US&ceid=US%3Aen\n",
            "\n",
            "./articles/CBMiWGh0dHBzOi8vd3d3LmZveG5ld3MuY29tL21lZGlhL2hhbm5pdHktYmlkZW4tY292aWQtcG9zaXRpdmUtbWlncmFudHMtbmVhbmRlcnRoYWwtdGhpbmtpbmfSAQA?hl=en-US&gl=US&ceid=US%3Aen\n",
            "\n",
            "./articles/CBMiWGh0dHBzOi8vd3d3LmZveG5ld3MuY29tL21lZGlhL2hhbm5pdHktYmlkZW4tY292aWQtcG9zaXRpdmUtbWlncmFudHMtbmVhbmRlcnRoYWwtdGhpbmtpbmfSAQA?hl=en-US&gl=US&ceid=US%3Aen\n",
            "\n",
            "./articles/CAIiEO5knqpS1ogQJi024Oub7BQqMwgEKioIACIQpzoRSNLEm6QR--MasMLSAioUCAoiEKc6EUjSxJukEfvjGrDC0gIw1anKBg?hl=en-US&gl=US&ceid=US%3Aen\n",
            "\n",
            "./articles/CAIiEO5knqpS1ogQJi024Oub7BQqMwgEKioIACIQpzoRSNLEm6QR--MasMLSAioUCAoiEKc6EUjSxJukEfvjGrDC0gIw1anKBg?hl=en-US&gl=US&ceid=US%3Aen\n",
            "\n",
            "./articles/CAIiEAkf5n-94XEn2Met-vUj8kQqGQgEKhAIACoHCAowkIf-CjDWy_YCMOmk3gU?hl=en-US&gl=US&ceid=US%3Aen\n",
            "\n",
            "./articles/CAIiEAkf5n-94XEn2Met-vUj8kQqGQgEKhAIACoHCAowkIf-CjDWy_YCMOmk3gU?hl=en-US&gl=US&ceid=US%3Aen\n",
            "\n",
            "./articles/CAIiEFQKlmtCA3mhF3nxuM368_IqGQgEKhAIACoHCAow-uGXCzChi68DMPvFzwY?hl=en-US&gl=US&ceid=US%3Aen\n",
            "\n",
            "./articles/CAIiEFQKlmtCA3mhF3nxuM368_IqGQgEKhAIACoHCAow-uGXCzChi68DMPvFzwY?hl=en-US&gl=US&ceid=US%3Aen\n",
            "\n",
            "./articles/CAIiELQkaRj8ICp7AY61XsZp4BwqGAgEKg8IACoHCAowjuuKAzCWrzwworyzBg?hl=en-US&gl=US&ceid=US%3Aen\n",
            "\n",
            "./articles/CAIiELQkaRj8ICp7AY61XsZp4BwqGAgEKg8IACoHCAowjuuKAzCWrzwworyzBg?hl=en-US&gl=US&ceid=US%3Aen\n",
            "\n",
            "./articles/CAIiEJbiuEXWgeFp2ZZTuhxoRdwqFwgEKg8IACoHCAowjuuKAzCWrzwwloEY?hl=en-US&gl=US&ceid=US%3Aen\n",
            "\n",
            "./articles/CAIiEJbiuEXWgeFp2ZZTuhxoRdwqFwgEKg8IACoHCAowjuuKAzCWrzwwloEY?hl=en-US&gl=US&ceid=US%3Aen\n",
            "\n",
            "./articles/CAIiEJbiuEXWgeFp2ZZTuhxoRdwqFwgEKg8IACoHCAowjuuKAzCWrzwwloEY?hl=en-US&gl=US&ceid=US%3Aen\n",
            "\n",
            "./articles/CAIiELK85I6zgBNr7yZisNKGFcQqGQgEKhAIACoHCAowwL2ICzCckocDMMaPqQY?hl=en-US&gl=US&ceid=US%3Aen\n",
            "\n",
            "./articles/CAIiELK85I6zgBNr7yZisNKGFcQqGQgEKhAIACoHCAowwL2ICzCckocDMMaPqQY?hl=en-US&gl=US&ceid=US%3Aen\n",
            "\n",
            "./articles/CBMiZGh0dHBzOi8vd3d3Lmt4YW4uY29tL25ld3MvcG9saXRpY2FsLW5ld3MvdGFrZWF3YXlzLXdoYXQtaGVhcmluZ3MtaGF2ZS1yZXZlYWxlZC1hYm91dC1qYW4tNi1mYWlsdXJlcy_SAWhodHRwczovL3d3dy5reGFuLmNvbS9uZXdzL3BvbGl0aWNhbC1uZXdzL3Rha2Vhd2F5cy13aGF0LWhlYXJpbmdzLWhhdmUtcmV2ZWFsZWQtYWJvdXQtamFuLTYtZmFpbHVyZXMvYW1wLw?hl=en-US&gl=US&ceid=US%3Aen\n",
            "\n",
            "./articles/CBMiZGh0dHBzOi8vd3d3Lmt4YW4uY29tL25ld3MvcG9saXRpY2FsLW5ld3MvdGFrZWF3YXlzLXdoYXQtaGVhcmluZ3MtaGF2ZS1yZXZlYWxlZC1hYm91dC1qYW4tNi1mYWlsdXJlcy_SAWhodHRwczovL3d3dy5reGFuLmNvbS9uZXdzL3BvbGl0aWNhbC1uZXdzL3Rha2Vhd2F5cy13aGF0LWhlYXJpbmdzLWhhdmUtcmV2ZWFsZWQtYWJvdXQtamFuLTYtZmFpbHVyZXMvYW1wLw?hl=en-US&gl=US&ceid=US%3Aen\n",
            "\n",
            "./articles/CAIiEP1W7ggHE4GaJoB7lZj7KvkqFwgEKg8IACoHCAowhO7OATDh9Cgwu4lR?hl=en-US&gl=US&ceid=US%3Aen\n",
            "\n",
            "./articles/CAIiEP1W7ggHE4GaJoB7lZj7KvkqFwgEKg8IACoHCAowhO7OATDh9Cgwu4lR?hl=en-US&gl=US&ceid=US%3Aen\n",
            "\n",
            "./articles/CBMiY2h0dHBzOi8vbmV3cy55YWhvby5jb20vY2l0aW5nLW1hcmNoLTQtc2VjdXJpdHktdGhyZWF0LWhvdXNlLWNhbmNlbHMtdGh1cnNkYXktc2Vzc2lvbi0yMzE2MDM5NzcuaHRtbNIBa2h0dHBzOi8vbmV3cy55YWhvby5jb20vYW1waHRtbC9jaXRpbmctbWFyY2gtNC1zZWN1cml0eS10aHJlYXQtaG91c2UtY2FuY2Vscy10aHVyc2RheS1zZXNzaW9uLTIzMTYwMzk3Ny5odG1s?hl=en-US&gl=US&ceid=US%3Aen\n",
            "\n",
            "./articles/CBMiY2h0dHBzOi8vbmV3cy55YWhvby5jb20vY2l0aW5nLW1hcmNoLTQtc2VjdXJpdHktdGhyZWF0LWhvdXNlLWNhbmNlbHMtdGh1cnNkYXktc2Vzc2lvbi0yMzE2MDM5NzcuaHRtbNIBa2h0dHBzOi8vbmV3cy55YWhvby5jb20vYW1waHRtbC9jaXRpbmctbWFyY2gtNC1zZWN1cml0eS10aHJlYXQtaG91c2UtY2FuY2Vscy10aHVyc2RheS1zZXNzaW9uLTIzMTYwMzk3Ny5odG1s?hl=en-US&gl=US&ceid=US%3Aen\n",
            "\n",
            "./articles/CAIiEPCgRxrtJz1qYeqh29RFf80qFggEKg4IACoGCAowjJ0RMKC-AjCwjQ0?hl=en-US&gl=US&ceid=US%3Aen\n",
            "\n",
            "./articles/CAIiEPCgRxrtJz1qYeqh29RFf80qFggEKg4IACoGCAowjJ0RMKC-AjCwjQ0?hl=en-US&gl=US&ceid=US%3Aen\n",
            "\n",
            "./articles/CAIiEPCgRxrtJz1qYeqh29RFf80qFggEKg4IACoGCAowjJ0RMKC-AjCwjQ0?hl=en-US&gl=US&ceid=US%3Aen\n",
            "\n",
            "./articles/CCAiCzVBNUlRZzdBSUt3mAEB?hl=en-US&gl=US&ceid=US%3Aen\n",
            "\n",
            "./articles/CCAiCzVBNUlRZzdBSUt3mAEB?hl=en-US&gl=US&ceid=US%3Aen\n",
            "\n",
            "./articles/CAIiELBR5longHYi-fTPmpHrkGwqGQgEKhAIACoHCAowmd6bCzDd6LMDMInL3wY?hl=en-US&gl=US&ceid=US%3Aen\n",
            "\n",
            "./articles/CAIiELBR5longHYi-fTPmpHrkGwqGQgEKhAIACoHCAowmd6bCzDd6LMDMInL3wY?hl=en-US&gl=US&ceid=US%3Aen\n",
            "\n",
            "./articles/CAIiELczcMvJYqHvR1d23jB7h24qGAgEKg8IACoHCAowjtSUCjC30XQwzqe5AQ?hl=en-US&gl=US&ceid=US%3Aen\n",
            "\n",
            "./articles/CAIiELczcMvJYqHvR1d23jB7h24qGAgEKg8IACoHCAowjtSUCjC30XQwzqe5AQ?hl=en-US&gl=US&ceid=US%3Aen\n",
            "\n",
            "./articles/CBMiUGh0dHBzOi8vd3d3Lndhc2hpbmd0b25wb3N0LmNvbS9uYXRpb24vMjAyMS8wMy8wMy9idXJlYXVjcmFjeS1uby1vbmUtaGFzLWFuc3dlcnMv0gFfaHR0cHM6Ly93d3cud2FzaGluZ3RvbnBvc3QuY29tL25hdGlvbi8yMDIxLzAzLzAzL2J1cmVhdWNyYWN5LW5vLW9uZS1oYXMtYW5zd2Vycy8_b3V0cHV0VHlwZT1hbXA?hl=en-US&gl=US&ceid=US%3Aen\n",
            "\n",
            "./articles/CBMiUGh0dHBzOi8vd3d3Lndhc2hpbmd0b25wb3N0LmNvbS9uYXRpb24vMjAyMS8wMy8wMy9idXJlYXVjcmFjeS1uby1vbmUtaGFzLWFuc3dlcnMv0gFfaHR0cHM6Ly93d3cud2FzaGluZ3RvbnBvc3QuY29tL25hdGlvbi8yMDIxLzAzLzAzL2J1cmVhdWNyYWN5LW5vLW9uZS1oYXMtYW5zd2Vycy8_b3V0cHV0VHlwZT1hbXA?hl=en-US&gl=US&ceid=US%3Aen\n",
            "\n",
            "./articles/CAIiEO_BBx88z4bl3HE1ULGSHN0qGQgEKhAIACoHCAowvIaCCzDnxf4CMP2F8gU?hl=en-US&gl=US&ceid=US%3Aen\n",
            "\n",
            "./articles/CAIiEO_BBx88z4bl3HE1ULGSHN0qGQgEKhAIACoHCAowvIaCCzDnxf4CMP2F8gU?hl=en-US&gl=US&ceid=US%3Aen\n",
            "\n",
            "./articles/CAIiEO_BBx88z4bl3HE1ULGSHN0qGQgEKhAIACoHCAowvIaCCzDnxf4CMP2F8gU?hl=en-US&gl=US&ceid=US%3Aen\n",
            "\n",
            "./articles/CAIiEAXUZAFl01zvG4CXatZiLigqFwgEKg8IACoHCAowjuuKAzCWrzwwloEY?hl=en-US&gl=US&ceid=US%3Aen\n",
            "\n",
            "./articles/CAIiEAXUZAFl01zvG4CXatZiLigqFwgEKg8IACoHCAowjuuKAzCWrzwwloEY?hl=en-US&gl=US&ceid=US%3Aen\n",
            "\n",
            "./articles/CAIiEKJLIjWqWpIN2ySpD6B2XcYqGQgEKhAIACoHCAow4uzwCjCF3bsCMIrOrwM?hl=en-US&gl=US&ceid=US%3Aen\n",
            "\n",
            "./articles/CAIiEKJLIjWqWpIN2ySpD6B2XcYqGQgEKhAIACoHCAow4uzwCjCF3bsCMIrOrwM?hl=en-US&gl=US&ceid=US%3Aen\n",
            "\n",
            "./articles/CAIiEP_ZsI5qKlzkiml-j9yXiqYqGQgEKhAIACoHCAownvOTCzCHjqkDMKHLwAY?hl=en-US&gl=US&ceid=US%3Aen\n",
            "\n",
            "./articles/CAIiEP_ZsI5qKlzkiml-j9yXiqYqGQgEKhAIACoHCAownvOTCzCHjqkDMKHLwAY?hl=en-US&gl=US&ceid=US%3Aen\n",
            "\n",
            "./articles/CAIiEPq_9suo9pzzXDgSKNyWNGoqMwgEKioIACIQpzoRSNLEm6QR--MasMLSAioUCAoiEKc6EUjSxJukEfvjGrDC0gIw1anKBg?hl=en-US&gl=US&ceid=US%3Aen\n",
            "\n",
            "./articles/CAIiEPq_9suo9pzzXDgSKNyWNGoqMwgEKioIACIQpzoRSNLEm6QR--MasMLSAioUCAoiEKc6EUjSxJukEfvjGrDC0gIw1anKBg?hl=en-US&gl=US&ceid=US%3Aen\n",
            "\n",
            "./articles/CAIiEEzYW5msIzFWDq4mrkkc2vYqGQgEKhAIACoHCAowwL2ICzCckocDMP2lqQY?hl=en-US&gl=US&ceid=US%3Aen\n",
            "\n",
            "./articles/CAIiEEzYW5msIzFWDq4mrkkc2vYqGQgEKhAIACoHCAowwL2ICzCckocDMP2lqQY?hl=en-US&gl=US&ceid=US%3Aen\n",
            "\n",
            "./articles/CAIiEEzYW5msIzFWDq4mrkkc2vYqGQgEKhAIACoHCAowwL2ICzCckocDMP2lqQY?hl=en-US&gl=US&ceid=US%3Aen\n",
            "\n",
            "./articles/CCAiCzl6SXlXZjlESERFmAEB?hl=en-US&gl=US&ceid=US%3Aen\n",
            "\n",
            "./articles/CCAiCzl6SXlXZjlESERFmAEB?hl=en-US&gl=US&ceid=US%3Aen\n",
            "\n",
            "./articles/CAIiEMxVr3NjwZccE-kjTHuf-ZoqGQgEKhAIACoHCAowsIv_CjCag_gCMN-15QU?hl=en-US&gl=US&ceid=US%3Aen\n",
            "\n",
            "./articles/CAIiEMxVr3NjwZccE-kjTHuf-ZoqGQgEKhAIACoHCAowsIv_CjCag_gCMN-15QU?hl=en-US&gl=US&ceid=US%3Aen\n",
            "\n",
            "./articles/CBMikQFodHRwczovL3d3dy5zYW5kaWVnb3VuaW9udHJpYnVuZS5jb20vbmV3cy9jYWxpZm9ybmlhL3N0b3J5LzIwMjEtMDMtMDMvYW4tc3V2LXBhY2tlZC13aXRoLTI1LXBlb3BsZS1hdC1ib3JkZXItYS1ob3JyaWJsZS1jcmFzaC1hbi11bnRoaW5rYWJsZS10b2xs0gGbAWh0dHBzOi8vd3d3LnNhbmRpZWdvdW5pb250cmlidW5lLmNvbS9uZXdzL2NhbGlmb3JuaWEvc3RvcnkvMjAyMS0wMy0wMy9hbi1zdXYtcGFja2VkLXdpdGgtMjUtcGVvcGxlLWF0LWJvcmRlci1hLWhvcnJpYmxlLWNyYXNoLWFuLXVudGhpbmthYmxlLXRvbGw_X2FtcD10cnVl?hl=en-US&gl=US&ceid=US%3Aen\n",
            "\n",
            "./articles/CBMikQFodHRwczovL3d3dy5zYW5kaWVnb3VuaW9udHJpYnVuZS5jb20vbmV3cy9jYWxpZm9ybmlhL3N0b3J5LzIwMjEtMDMtMDMvYW4tc3V2LXBhY2tlZC13aXRoLTI1LXBlb3BsZS1hdC1ib3JkZXItYS1ob3JyaWJsZS1jcmFzaC1hbi11bnRoaW5rYWJsZS10b2xs0gGbAWh0dHBzOi8vd3d3LnNhbmRpZWdvdW5pb250cmlidW5lLmNvbS9uZXdzL2NhbGlmb3JuaWEvc3RvcnkvMjAyMS0wMy0wMy9hbi1zdXYtcGFja2VkLXdpdGgtMjUtcGVvcGxlLWF0LWJvcmRlci1hLWhvcnJpYmxlLWNyYXNoLWFuLXVudGhpbmthYmxlLXRvbGw_X2FtcD10cnVl?hl=en-US&gl=US&ceid=US%3Aen\n",
            "\n",
            "./articles/CCAiC2t4Q1k0aGRQY084mAEB?hl=en-US&gl=US&ceid=US%3Aen\n",
            "\n",
            "./articles/CCAiC2t4Q1k0aGRQY084mAEB?hl=en-US&gl=US&ceid=US%3Aen\n",
            "\n",
            "./articles/CBMiaGh0dHBzOi8vd3d3Lm5ld3N3ZWVrLmNvbS9mYWN0LWNoZWNrLWRpZC1jdW9tby1jYWxsLWxhd21ha2VyLXJlc2lnbi1hbWlkLXNleHVhbC1oYXJhc3NtZW50LWNsYWltcy0xNTczNjE10gEA?hl=en-US&gl=US&ceid=US%3Aen\n",
            "\n",
            "./articles/CBMiaGh0dHBzOi8vd3d3Lm5ld3N3ZWVrLmNvbS9mYWN0LWNoZWNrLWRpZC1jdW9tby1jYWxsLWxhd21ha2VyLXJlc2lnbi1hbWlkLXNleHVhbC1oYXJhc3NtZW50LWNsYWltcy0xNTczNjE10gEA?hl=en-US&gl=US&ceid=US%3Aen\n",
            "\n",
            "./articles/CBMihwFodHRwczovL3d3dy51c2F0b2RheS5jb20vc3RvcnkvbmV3cy9mYWN0Y2hlY2svMjAyMS8wMy8wMy9mYWN0LWNoZWNrLWNhbGlmLXZhY2NpbmUtcGxhbi1kb2VzbnQtcHJpb3JpdGl6ZS1ob21lbGVzcy1wcmlzb25lcnMvNjkwMTMzMjAwMi_SAQA?hl=en-US&gl=US&ceid=US%3Aen\n",
            "\n",
            "./articles/CBMihwFodHRwczovL3d3dy51c2F0b2RheS5jb20vc3RvcnkvbmV3cy9mYWN0Y2hlY2svMjAyMS8wMy8wMy9mYWN0LWNoZWNrLWNhbGlmLXZhY2NpbmUtcGxhbi1kb2VzbnQtcHJpb3JpdGl6ZS1ob21lbGVzcy1wcmlzb25lcnMvNjkwMTMzMjAwMi_SAQA?hl=en-US&gl=US&ceid=US%3Aen\n",
            "\n",
            "./articles/CBMiWWh0dHBzOi8vZmFjdGNoZWNrLmFmcC5jb20va2VudHVja3ktbW9uYXN0ZXJ5LWNvdmlkLTE5LWNhc2VzLW5vdC1ldmlkZW5jZS12YWNjaW5lLXByb2JsZW1z0gEA?hl=en-US&gl=US&ceid=US%3Aen\n",
            "\n",
            "./articles/CBMiWWh0dHBzOi8vZmFjdGNoZWNrLmFmcC5jb20va2VudHVja3ktbW9uYXN0ZXJ5LWNvdmlkLTE5LWNhc2VzLW5vdC1ldmlkZW5jZS12YWNjaW5lLXByb2JsZW1z0gEA?hl=en-US&gl=US&ceid=US%3Aen\n",
            "\n",
            "./articles/CBMif2h0dHBzOi8vd3d3LnVzYXRvZGF5LmNvbS9zdG9yeS9uZXdzL2ZhY3RjaGVjay8yMDIxLzAzLzAyL2ZhY3QtY2hlY2staXNyYWVsLWxhdW5jaGluZy1ncmVlbi1wYXNzLWNvdmlkLTE5LXZhY2NpbmF0ZWQvNjg3MTk2NTAwMi_SAQA?hl=en-US&gl=US&ceid=US%3Aen\n",
            "\n",
            "./articles/CBMif2h0dHBzOi8vd3d3LnVzYXRvZGF5LmNvbS9zdG9yeS9uZXdzL2ZhY3RjaGVjay8yMDIxLzAzLzAyL2ZhY3QtY2hlY2staXNyYWVsLWxhdW5jaGluZy1ncmVlbi1wYXNzLWNvdmlkLTE5LXZhY2NpbmF0ZWQvNjg3MTk2NTAwMi_SAQA?hl=en-US&gl=US&ceid=US%3Aen\n",
            "\n",
            "./articles/CBMiVGh0dHBzOi8vZmFjdGNoZWNrLmFmcC5jb20vcGhvdG8tc2hvd3MtZG9jdG9yLXJlY2VpdmluZy1jb3ZpZC0xOS1qYWItbm90LWxlbmktcm9icmVkb9IBAA?hl=en-US&gl=US&ceid=US%3Aen\n",
            "\n",
            "./articles/CBMiVGh0dHBzOi8vZmFjdGNoZWNrLmFmcC5jb20vcGhvdG8tc2hvd3MtZG9jdG9yLXJlY2VpdmluZy1jb3ZpZC0xOS1qYWItbm90LWxlbmktcm9icmVkb9IBAA?hl=en-US&gl=US&ceid=US%3Aen\n",
            "\n",
            "./articles/CAIiEJx4v-LMrViRK3sb_nO-3KMqGAgEKg8IACoHCAow-KLyCTDo8XIw2a_pBQ?hl=en-US&gl=US&ceid=US%3Aen\n",
            "\n",
            "./articles/CAIiEJx4v-LMrViRK3sb_nO-3KMqGAgEKg8IACoHCAow-KLyCTDo8XIw2a_pBQ?hl=en-US&gl=US&ceid=US%3Aen\n",
            "\n",
            "./articles/CAIiEKYDWDTtq29H9zVn3spcm6cqFwgEKg8IACoHCAowjuuKAzCWrzwwt4QY?hl=en-US&gl=US&ceid=US%3Aen\n",
            "\n",
            "./articles/CAIiEKYDWDTtq29H9zVn3spcm6cqFwgEKg8IACoHCAowjuuKAzCWrzwwt4QY?hl=en-US&gl=US&ceid=US%3Aen\n",
            "\n",
            "./articles/CBMicmh0dHBzOi8vd3d3Lm5iY25ld3MuY29tL25ld3MvYXNpYW4tYW1lcmljYS92aW9sZW5jZS1hZ2FpbnN0LWFzaWFuLWFtZXJpY2Fucy13aHktaGF0ZS1jcmltZS1zaG91bGQtYmUtdXNlZC1uMTI1ODc5M9IBLGh0dHBzOi8vd3d3Lm5iY25ld3MuY29tL25ld3MvYW1wL25jbmExMjU4Nzkz?hl=en-US&gl=US&ceid=US%3Aen\n",
            "\n",
            "./articles/CBMicmh0dHBzOi8vd3d3Lm5iY25ld3MuY29tL25ld3MvYXNpYW4tYW1lcmljYS92aW9sZW5jZS1hZ2FpbnN0LWFzaWFuLWFtZXJpY2Fucy13aHktaGF0ZS1jcmltZS1zaG91bGQtYmUtdXNlZC1uMTI1ODc5M9IBLGh0dHBzOi8vd3d3Lm5iY25ld3MuY29tL25ld3MvYW1wL25jbmExMjU4Nzkz?hl=en-US&gl=US&ceid=US%3Aen\n",
            "\n",
            "./articles/CAIiEJLpwDYlo--BBIZzatO6JBkqGQgEKhAIACoHCAow2Nb3CjDivdcCMJ_d7gU?hl=en-US&gl=US&ceid=US%3Aen\n",
            "\n",
            "./articles/CAIiEJLpwDYlo--BBIZzatO6JBkqGQgEKhAIACoHCAow2Nb3CjDivdcCMJ_d7gU?hl=en-US&gl=US&ceid=US%3Aen\n",
            "\n",
            "./articles/CAIiEH4TXrdg9EmRB9hpBSGgyRUqFQgEKgwIACoFCAow4GowoAgwhuCMBg?hl=en-US&gl=US&ceid=US%3Aen\n",
            "\n",
            "./articles/CAIiEH4TXrdg9EmRB9hpBSGgyRUqFQgEKgwIACoFCAow4GowoAgwhuCMBg?hl=en-US&gl=US&ceid=US%3Aen\n",
            "\n",
            "./articles/CAIiENaB_hxo_F1Hu_kdMpmhv8gqGAgEKg8IACoHCAow-4fWBzD4z0gw_fCpBg?hl=en-US&gl=US&ceid=US%3Aen\n",
            "\n",
            "./articles/CAIiENaB_hxo_F1Hu_kdMpmhv8gqGAgEKg8IACoHCAow-4fWBzD4z0gw_fCpBg?hl=en-US&gl=US&ceid=US%3Aen\n",
            "\n",
            "./articles/CAIiEEXpqr4ODdqfFn4mJIiFoy0qGAgEKg8IACoHCAowjtSUCjC30XQwzqe5AQ?hl=en-US&gl=US&ceid=US%3Aen\n",
            "\n",
            "./articles/CAIiEEXpqr4ODdqfFn4mJIiFoy0qGAgEKg8IACoHCAowjtSUCjC30XQwzqe5AQ?hl=en-US&gl=US&ceid=US%3Aen\n",
            "\n",
            "./articles/CAIiEBsAT1dYkHDLz-pKtSWb7r4qGQgEKhAIACoHCAow4Zn5CjCu8uACMJbRlgY?hl=en-US&gl=US&ceid=US%3Aen\n",
            "\n",
            "./articles/CAIiEBsAT1dYkHDLz-pKtSWb7r4qGQgEKhAIACoHCAow4Zn5CjCu8uACMJbRlgY?hl=en-US&gl=US&ceid=US%3Aen\n",
            "\n",
            "./articles/CAIiEP_CkbjC0xMAdjO2AYNmoncqGAgEKg8IACoHCAowhK-LAjD4ySww-9S0BQ?hl=en-US&gl=US&ceid=US%3Aen\n",
            "\n",
            "./articles/CAIiEP_CkbjC0xMAdjO2AYNmoncqGAgEKg8IACoHCAowhK-LAjD4ySww-9S0BQ?hl=en-US&gl=US&ceid=US%3Aen\n",
            "\n",
            "./articles/CAIiEFrc1MpN5iElivLVIVkgGmsqGQgEKhAIACoHCAowjsP7CjCSpPQCMM_b5QU?hl=en-US&gl=US&ceid=US%3Aen\n",
            "\n",
            "./articles/CAIiEFrc1MpN5iElivLVIVkgGmsqGQgEKhAIACoHCAowjsP7CjCSpPQCMM_b5QU?hl=en-US&gl=US&ceid=US%3Aen\n",
            "\n",
            "./articles/CAIiEBTxId-Ci8IA8itCd1I2ZogqFggEKg4IACoGCAow9vBNMK3UCDCvpUk?hl=en-US&gl=US&ceid=US%3Aen\n",
            "\n",
            "./articles/CAIiEBTxId-Ci8IA8itCd1I2ZogqFggEKg4IACoGCAow9vBNMK3UCDCvpUk?hl=en-US&gl=US&ceid=US%3Aen\n",
            "\n",
            "./articles/CAIiEE9uE8wOXwV-jE-bGY47LHUqFwgEKg8IACoHCAowjuuKAzCWrzww5oEY?hl=en-US&gl=US&ceid=US%3Aen\n",
            "\n",
            "./articles/CAIiEE9uE8wOXwV-jE-bGY47LHUqFwgEKg8IACoHCAowjuuKAzCWrzww5oEY?hl=en-US&gl=US&ceid=US%3Aen\n",
            "\n",
            "./articles/CAIiEAggQw66a41eDAavlRn3pXMqGQgEKhAIACoHCAowjsP7CjCSpPQCMKCK0wU?hl=en-US&gl=US&ceid=US%3Aen\n",
            "\n",
            "./articles/CAIiEAggQw66a41eDAavlRn3pXMqGQgEKhAIACoHCAowjsP7CjCSpPQCMKCK0wU?hl=en-US&gl=US&ceid=US%3Aen\n",
            "\n",
            "./articles/CAIiEBef8L013pOlCB_Y6WGftPoqFggEKg4IACoGCAow9vBNMK3UCDDq0Rc?hl=en-US&gl=US&ceid=US%3Aen\n",
            "\n",
            "./articles/CAIiEBef8L013pOlCB_Y6WGftPoqFggEKg4IACoGCAow9vBNMK3UCDDq0Rc?hl=en-US&gl=US&ceid=US%3Aen\n",
            "\n",
            "./articles/CAIiEIx6PeYfI6zXyhDBrLr7QfwqGQgEKhAIACoHCAow4Zn5CjCu8uACMLTRlgY?hl=en-US&gl=US&ceid=US%3Aen\n",
            "\n",
            "./articles/CAIiEIx6PeYfI6zXyhDBrLr7QfwqGQgEKhAIACoHCAow4Zn5CjCu8uACMLTRlgY?hl=en-US&gl=US&ceid=US%3Aen\n",
            "\n",
            "./articles/CBMiX2h0dHBzOi8vd3d3LmNuYmMuY29tLzIwMjEvMDMvMDIvdGVzbGEtdnMtbHVjaWQtaGVyZXMtaG93LXRoZS1ldi1yaXZhbHMtYXJlLWFuZC1hcmVudC1hbGlrZS5odG1s0gFjaHR0cHM6Ly93d3cuY25iYy5jb20vYW1wLzIwMjEvMDMvMDIvdGVzbGEtdnMtbHVjaWQtaGVyZXMtaG93LXRoZS1ldi1yaXZhbHMtYXJlLWFuZC1hcmVudC1hbGlrZS5odG1s?hl=en-US&gl=US&ceid=US%3Aen\n",
            "\n",
            "./articles/CBMiX2h0dHBzOi8vd3d3LmNuYmMuY29tLzIwMjEvMDMvMDIvdGVzbGEtdnMtbHVjaWQtaGVyZXMtaG93LXRoZS1ldi1yaXZhbHMtYXJlLWFuZC1hcmVudC1hbGlrZS5odG1s0gFjaHR0cHM6Ly93d3cuY25iYy5jb20vYW1wLzIwMjEvMDMvMDIvdGVzbGEtdnMtbHVjaWQtaGVyZXMtaG93LXRoZS1ldi1yaXZhbHMtYXJlLWFuZC1hcmVudC1hbGlrZS5odG1s?hl=en-US&gl=US&ceid=US%3Aen\n",
            "\n",
            "./articles/CAIiEDfKcpTatSY8UM3bsQIMu1EqFwgEKg8IACoHCAowjuuKAzCWrzwwt4QY?hl=en-US&gl=US&ceid=US%3Aen\n",
            "\n",
            "./articles/CAIiEDfKcpTatSY8UM3bsQIMu1EqFwgEKg8IACoHCAowjuuKAzCWrzwwt4QY?hl=en-US&gl=US&ceid=US%3Aen\n",
            "\n",
            "./articles/CAIiEJRZQG44J9H66QdVLF5nbJ0qFggEKg4IACoGCAowl6p7MN-zCTDlkko?hl=en-US&gl=US&ceid=US%3Aen\n",
            "\n",
            "./articles/CAIiEJRZQG44J9H66QdVLF5nbJ0qFggEKg4IACoGCAowl6p7MN-zCTDlkko?hl=en-US&gl=US&ceid=US%3Aen\n",
            "\n",
            "./articles/CAIiEJ-9j-u9Z_8HOUBogNQGbogqGQgEKhAIACoHCAow2Nb3CjDivdcCMJ_d7gU?hl=en-US&gl=US&ceid=US%3Aen\n",
            "\n",
            "./articles/CAIiEJ-9j-u9Z_8HOUBogNQGbogqGQgEKhAIACoHCAow2Nb3CjDivdcCMJ_d7gU?hl=en-US&gl=US&ceid=US%3Aen\n",
            "\n",
            "./articles/CAIiEE_nXR1Ohbr7LbQTxEdGuRYqFggEKg0IACoGCAowm_EEMKAiMJXamQY?hl=en-US&gl=US&ceid=US%3Aen\n",
            "\n",
            "./articles/CAIiEE_nXR1Ohbr7LbQTxEdGuRYqFggEKg0IACoGCAowm_EEMKAiMJXamQY?hl=en-US&gl=US&ceid=US%3Aen\n"
          ],
          "name": "stdout"
        }
      ]
    }
  ]
}